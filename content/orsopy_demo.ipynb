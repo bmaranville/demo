{
  "metadata": {
    "language_info": {
      "codemirror_mode": {
        "name": "python",
        "version": 3
      },
      "file_extension": ".py",
      "mimetype": "text/x-python",
      "name": "python",
      "nbconvert_exporter": "python",
      "pygments_lexer": "ipython3",
      "version": "3.8"
    },
    "kernelspec": {
      "name": "python",
      "display_name": "Pyolite",
      "language": "python"
    }
  },
  "nbformat_minor": 4,
  "nbformat": 4,
  "cells": [
    {
      "cell_type": "code",
      "source": "import numpy",
      "metadata": {
        "trusted": true
      },
      "execution_count": 1,
      "outputs": []
    },
    {
      "cell_type": "code",
      "source": "import micropip\nmicropip.install(\"orsopy\")",
      "metadata": {
        "trusted": true
      },
      "execution_count": 2,
      "outputs": [
        {
          "execution_count": 2,
          "output_type": "execute_result",
          "data": {
            "text/plain": "<Task pending name='Task-46' coro=<_PackageManager.install() running at /lib/python3.9/site-packages/micropip/_micropip.py:178>>"
          },
          "metadata": {}
        }
      ]
    },
    {
      "cell_type": "code",
      "source": "from orsopy import fileio\n\nempty = fileio.Orso.empty()\nprint(empty.to_yaml())",
      "metadata": {
        "trusted": true
      },
      "execution_count": 3,
      "outputs": [
        {
          "ename": "<class 'ModuleNotFoundError'>",
          "evalue": "No module named 'orsopy'",
          "traceback": [
            "\u001b[0;31m---------------------------------------------------------------------------\u001b[0m",
            "\u001b[0;31mModuleNotFoundError\u001b[0m                       Traceback (most recent call last)",
            "Input \u001b[0;32mIn [3]\u001b[0m, in \u001b[0;36m<module>\u001b[0;34m\u001b[0m\n\u001b[0;32m----> 1\u001b[0m \u001b[38;5;28;01mfrom\u001b[39;00m \u001b[38;5;21;01morsopy\u001b[39;00m \u001b[38;5;28;01mimport\u001b[39;00m fileio\n\u001b[1;32m      3\u001b[0m empty \u001b[38;5;241m=\u001b[39m fileio\u001b[38;5;241m.\u001b[39mOrso\u001b[38;5;241m.\u001b[39mempty()\n\u001b[1;32m      4\u001b[0m \u001b[38;5;28mprint\u001b[39m(empty\u001b[38;5;241m.\u001b[39mto_yaml())\n",
            "\u001b[0;31mModuleNotFoundError\u001b[0m: No module named 'orsopy'"
          ],
          "output_type": "error"
        }
      ]
    },
    {
      "cell_type": "code",
      "source": "empty = fileio.Orso.empty()\nprint(empty.to_yaml())\n",
      "metadata": {
        "trusted": true
      },
      "execution_count": 4,
      "outputs": [
        {
          "ename": "<class 'NameError'>",
          "evalue": "name 'fileio' is not defined",
          "traceback": [
            "\u001b[0;31m---------------------------------------------------------------------------\u001b[0m",
            "\u001b[0;31mNameError\u001b[0m                                 Traceback (most recent call last)",
            "Input \u001b[0;32mIn [4]\u001b[0m, in \u001b[0;36m<module>\u001b[0;34m\u001b[0m\n\u001b[0;32m----> 1\u001b[0m empty \u001b[38;5;241m=\u001b[39m \u001b[43mfileio\u001b[49m\u001b[38;5;241m.\u001b[39mOrso\u001b[38;5;241m.\u001b[39mempty()\n\u001b[1;32m      2\u001b[0m \u001b[38;5;28mprint\u001b[39m(empty\u001b[38;5;241m.\u001b[39mto_yaml())\n",
            "\u001b[0;31mNameError\u001b[0m: name 'fileio' is not defined"
          ],
          "output_type": "error"
        }
      ]
    },
    {
      "cell_type": "code",
      "source": "",
      "metadata": {},
      "execution_count": null,
      "outputs": []
    }
  ]
}