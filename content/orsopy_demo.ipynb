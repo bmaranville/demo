{
  "metadata": {
    "language_info": {
      "codemirror_mode": {
        "name": "python",
        "version": 3
      },
      "file_extension": ".py",
      "mimetype": "text/x-python",
      "name": "python",
      "nbconvert_exporter": "python",
      "pygments_lexer": "ipython3",
      "version": "3.8"
    },
    "kernelspec": {
      "name": "python",
      "display_name": "Pyolite",
      "language": "python"
    }
  },
  "nbformat_minor": 4,
  "nbformat": 4,
  "cells": [
    {
      "cell_type": "code",
      "source": "import numpy",
      "metadata": {
        "trusted": true
      },
      "execution_count": 1,
      "outputs": []
    },
    {
      "cell_type": "code",
      "source": "import micropip\nawait micropip.install(\"orsopy\")",
      "metadata": {
        "trusted": true
      },
      "execution_count": 2,
      "outputs": []
    },
    {
      "cell_type": "code",
      "source": "from orsopy import fileio\n\nempty = fileio.Orso.empty()\nprint(empty.to_yaml())",
      "metadata": {
        "trusted": true
      },
      "execution_count": 3,
      "outputs": [
        {
          "name": "stdout",
          "text": "data_source:\n  owner:\n    name: null\n    affiliation: null\n  experiment:\n    title: null\n    instrument: null\n    start_date: null\n    probe: null\n  sample:\n    name: null\n  measurement:\n    instrument_settings:\n      incident_angle:\n        magnitude: null\n      wavelength:\n        magnitude: null\n      polarization: unpolarized\n    data_files: null\nreduction:\n  software:\n    name: null\ncolumns:\n- name: Qz\n  unit: 1/angstrom\n- name: R\n\n",
          "output_type": "stream"
        }
      ]
    },
    {
      "cell_type": "code",
      "source": "",
      "metadata": {},
      "execution_count": null,
      "outputs": []
    }
  ]
}